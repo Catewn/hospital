{
 "cells": [
  {
   "cell_type": "code",
   "execution_count": 1,
   "id": "a4c9fb01",
   "metadata": {},
   "outputs": [],
   "source": [
    "#Libraries\n",
    "import numpy as np\n",
    "import pandas as pd \n",
    "import matplotlib.pyplot as plt\n",
    "import seaborn as sns"
   ]
  },
  {
   "cell_type": "code",
   "execution_count": 18,
   "id": "ae024fbd",
   "metadata": {},
   "outputs": [
    {
     "data": {
      "text/html": [
       "<div>\n",
       "<style scoped>\n",
       "    .dataframe tbody tr th:only-of-type {\n",
       "        vertical-align: middle;\n",
       "    }\n",
       "\n",
       "    .dataframe tbody tr th {\n",
       "        vertical-align: top;\n",
       "    }\n",
       "\n",
       "    .dataframe thead th {\n",
       "        text-align: right;\n",
       "    }\n",
       "</style>\n",
       "<table border=\"1\" class=\"dataframe\">\n",
       "  <thead>\n",
       "    <tr style=\"text-align: right;\">\n",
       "      <th></th>\n",
       "      <th>KEPH</th>\n",
       "      <th>Facility_category</th>\n",
       "      <th>Owner</th>\n",
       "      <th>County</th>\n",
       "      <th>whole_day</th>\n",
       "      <th>public_holidays</th>\n",
       "      <th>weekends</th>\n",
       "      <th>late_night</th>\n",
       "    </tr>\n",
       "  </thead>\n",
       "  <tbody>\n",
       "    <tr>\n",
       "      <th>0</th>\n",
       "      <td>Level 2</td>\n",
       "      <td>DISPENSARY</td>\n",
       "      <td>Ministry of Health</td>\n",
       "      <td>Kakamega</td>\n",
       "      <td>No</td>\n",
       "      <td>No</td>\n",
       "      <td>No</td>\n",
       "      <td>No</td>\n",
       "    </tr>\n",
       "    <tr>\n",
       "      <th>1</th>\n",
       "      <td>Level 3</td>\n",
       "      <td>MEDICAL CENTER</td>\n",
       "      <td>Private Practice</td>\n",
       "      <td>Nairobi</td>\n",
       "      <td>No</td>\n",
       "      <td>Yes</td>\n",
       "      <td>Yes</td>\n",
       "      <td>No</td>\n",
       "    </tr>\n",
       "    <tr>\n",
       "      <th>2</th>\n",
       "      <td>Level 2</td>\n",
       "      <td>DISPENSARY</td>\n",
       "      <td>Ministry of Health</td>\n",
       "      <td>Kakamega</td>\n",
       "      <td>No</td>\n",
       "      <td>No</td>\n",
       "      <td>No</td>\n",
       "      <td>No</td>\n",
       "    </tr>\n",
       "    <tr>\n",
       "      <th>3</th>\n",
       "      <td>Level 2</td>\n",
       "      <td>DISPENSARY</td>\n",
       "      <td>Ministry of Health</td>\n",
       "      <td>Narok</td>\n",
       "      <td>No</td>\n",
       "      <td>No</td>\n",
       "      <td>No</td>\n",
       "      <td>No</td>\n",
       "    </tr>\n",
       "    <tr>\n",
       "      <th>4</th>\n",
       "      <td>Level 2</td>\n",
       "      <td>MEDICAL CLINIC</td>\n",
       "      <td>Private Practice</td>\n",
       "      <td>Kirinyaga</td>\n",
       "      <td>No</td>\n",
       "      <td>Yes</td>\n",
       "      <td>Yes</td>\n",
       "      <td>Yes</td>\n",
       "    </tr>\n",
       "  </tbody>\n",
       "</table>\n",
       "</div>"
      ],
      "text/plain": [
       "      KEPH Facility_category               Owner     County whole_day  \\\n",
       "0  Level 2        DISPENSARY  Ministry of Health   Kakamega        No   \n",
       "1  Level 3    MEDICAL CENTER    Private Practice    Nairobi        No   \n",
       "2  Level 2        DISPENSARY  Ministry of Health   Kakamega        No   \n",
       "3  Level 2        DISPENSARY  Ministry of Health      Narok        No   \n",
       "4  Level 2    MEDICAL CLINIC    Private Practice  Kirinyaga        No   \n",
       "\n",
       "  public_holidays weekends late_night  \n",
       "0              No       No         No  \n",
       "1             Yes      Yes         No  \n",
       "2              No       No         No  \n",
       "3              No       No         No  \n",
       "4             Yes      Yes        Yes  "
      ]
     },
     "execution_count": 18,
     "metadata": {},
     "output_type": "execute_result"
    }
   ],
   "source": [
    "df=pd.read_csv('kenya-hospitals_cleaned.csv')\n",
    "df.head()"
   ]
  },
  {
   "cell_type": "code",
   "execution_count": 19,
   "id": "b1097d1c",
   "metadata": {},
   "outputs": [
    {
     "data": {
      "text/plain": [
       "(12394, 8)"
      ]
     },
     "execution_count": 19,
     "metadata": {},
     "output_type": "execute_result"
    }
   ],
   "source": [
    "df.shape"
   ]
  },
  {
   "cell_type": "code",
   "execution_count": 20,
   "id": "6771a3e5",
   "metadata": {},
   "outputs": [
    {
     "name": "stdout",
     "output_type": "stream",
     "text": [
      "<class 'pandas.core.frame.DataFrame'>\n",
      "RangeIndex: 12394 entries, 0 to 12393\n",
      "Data columns (total 8 columns):\n",
      " #   Column             Non-Null Count  Dtype \n",
      "---  ------             --------------  ----- \n",
      " 0   KEPH               12394 non-null  object\n",
      " 1   Facility_category  12394 non-null  object\n",
      " 2   Owner              12394 non-null  object\n",
      " 3   County             12394 non-null  object\n",
      " 4   whole_day          12394 non-null  object\n",
      " 5   public_holidays    12394 non-null  object\n",
      " 6   weekends           12394 non-null  object\n",
      " 7   late_night         12394 non-null  object\n",
      "dtypes: object(8)\n",
      "memory usage: 774.8+ KB\n"
     ]
    }
   ],
   "source": [
    "df.info()"
   ]
  },
  {
   "cell_type": "code",
   "execution_count": 21,
   "id": "8abfa888",
   "metadata": {},
   "outputs": [
    {
     "data": {
      "text/plain": [
       "KEPH                 object\n",
       "Facility_category    object\n",
       "Owner                object\n",
       "County               object\n",
       "whole_day            object\n",
       "public_holidays      object\n",
       "weekends             object\n",
       "late_night           object\n",
       "dtype: object"
      ]
     },
     "execution_count": 21,
     "metadata": {},
     "output_type": "execute_result"
    }
   ],
   "source": [
    "df.dtypes"
   ]
  },
  {
   "cell_type": "code",
   "execution_count": 22,
   "id": "42355745",
   "metadata": {},
   "outputs": [
    {
     "data": {
      "text/plain": [
       "True     10462\n",
       "False     1932\n",
       "dtype: int64"
      ]
     },
     "execution_count": 22,
     "metadata": {},
     "output_type": "execute_result"
    }
   ],
   "source": [
    " df.duplicated().value_counts()"
   ]
  },
  {
   "cell_type": "code",
   "execution_count": 23,
   "id": "4f694d2f",
   "metadata": {},
   "outputs": [],
   "source": [
    "df.drop_duplicates(inplace=True)"
   ]
  },
  {
   "cell_type": "code",
   "execution_count": 24,
   "id": "a699b571",
   "metadata": {},
   "outputs": [
    {
     "data": {
      "text/plain": [
       "False    1932\n",
       "dtype: int64"
      ]
     },
     "execution_count": 24,
     "metadata": {},
     "output_type": "execute_result"
    }
   ],
   "source": [
    "df.duplicated().value_counts()"
   ]
  },
  {
   "cell_type": "code",
   "execution_count": 25,
   "id": "d1273249",
   "metadata": {},
   "outputs": [
    {
     "name": "stdout",
     "output_type": "stream",
     "text": [
      "<class 'pandas.core.frame.DataFrame'>\n",
      "Int64Index: 1932 entries, 0 to 12382\n",
      "Data columns (total 8 columns):\n",
      " #   Column             Non-Null Count  Dtype \n",
      "---  ------             --------------  ----- \n",
      " 0   KEPH               1932 non-null   object\n",
      " 1   Facility_category  1932 non-null   object\n",
      " 2   Owner              1932 non-null   object\n",
      " 3   County             1932 non-null   object\n",
      " 4   whole_day          1932 non-null   object\n",
      " 5   public_holidays    1932 non-null   object\n",
      " 6   weekends           1932 non-null   object\n",
      " 7   late_night         1932 non-null   object\n",
      "dtypes: object(8)\n",
      "memory usage: 135.8+ KB\n"
     ]
    }
   ],
   "source": [
    "df.info()"
   ]
  },
  {
   "cell_type": "code",
   "execution_count": 26,
   "id": "399af03d",
   "metadata": {},
   "outputs": [
    {
     "data": {
      "text/plain": [
       "Level 2    875\n",
       "Level 3    679\n",
       "Level 4    357\n",
       "Level 5     17\n",
       "Level 6      4\n",
       "Name: KEPH, dtype: int64"
      ]
     },
     "execution_count": 26,
     "metadata": {},
     "output_type": "execute_result"
    }
   ],
   "source": [
    "df.KEPH.value_counts()"
   ]
  },
  {
   "cell_type": "code",
   "execution_count": 27,
   "id": "e06ff64a",
   "metadata": {},
   "outputs": [
    {
     "data": {
      "text/plain": [
       "MEDICAL CLINIC                   412\n",
       "HEALTH CENTRE                    404\n",
       "HOSPITALS                        383\n",
       "DISPENSARY                       321\n",
       "MEDICAL CENTER                   209\n",
       "STAND ALONE                      113\n",
       "NURSING HOME                      64\n",
       "None                              23\n",
       "Primary health  care services      3\n",
       "Name: Facility_category, dtype: int64"
      ]
     },
     "execution_count": 27,
     "metadata": {},
     "output_type": "execute_result"
    }
   ],
   "source": [
    "df.Facility_category.value_counts()"
   ]
  },
  {
   "cell_type": "code",
   "execution_count": 28,
   "id": "fd1a53c5",
   "metadata": {},
   "outputs": [
    {
     "data": {
      "text/plain": [
       "Private Practice                  920\n",
       "Ministry of Health                545\n",
       "Faith Based Organization          301\n",
       "Non-Governmental Organizations    166\n",
       "Name: Owner, dtype: int64"
      ]
     },
     "execution_count": 28,
     "metadata": {},
     "output_type": "execute_result"
    }
   ],
   "source": [
    "df.Owner.value_counts()"
   ]
  },
  {
   "cell_type": "code",
   "execution_count": 29,
   "id": "38a629b6",
   "metadata": {},
   "outputs": [],
   "source": [
    "df.to_csv(r'C:\\Users\\User\\Desktop\\Hospital Recommendor\\hospitals_cleaned.csv', index=False)"
   ]
  },
  {
   "cell_type": "code",
   "execution_count": null,
   "id": "eccd72af",
   "metadata": {},
   "outputs": [],
   "source": []
  }
 ],
 "metadata": {
  "kernelspec": {
   "display_name": "Python 3 (ipykernel)",
   "language": "python",
   "name": "python3"
  },
  "language_info": {
   "codemirror_mode": {
    "name": "ipython",
    "version": 3
   },
   "file_extension": ".py",
   "mimetype": "text/x-python",
   "name": "python",
   "nbconvert_exporter": "python",
   "pygments_lexer": "ipython3",
   "version": "3.9.7"
  }
 },
 "nbformat": 4,
 "nbformat_minor": 5
}
